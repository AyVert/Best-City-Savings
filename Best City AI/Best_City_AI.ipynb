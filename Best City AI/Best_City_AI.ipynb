{
 "cells": [
  {
   "attachments": {},
   "cell_type": "markdown",
   "metadata": {},
   "source": [
    "# Best City to stay AI Generated Solution"
   ]
  },
  {
   "attachments": {},
   "cell_type": "markdown",
   "metadata": {},
   "source": []
  },
  {
   "cell_type": "code",
   "execution_count": null,
   "metadata": {},
   "outputs": [],
   "source": [
    "#"
   ]
  },
  {
   "attachments": {},
   "cell_type": "markdown",
   "metadata": {},
   "source": [
    "Choose what city gives us the most savings over a 20 year period considering these factors. \n",
    "* The cities are \"San Francisco\", \"New York\", \"Boston\", \"Oakland\", \"San Jose\", \"Los Angeles\", \"Washington\", \"Seattle\", \"San Diego\", \"Miami\"\n",
    "* The rent in each city is respectively [3500, 3000, 2590, 2500, 2450, 2260, 2260, 1890, 1790, 1800]\n",
    "* Your standard yearly salary is 48,000\n",
    "* You recieve a monthly bonus 3/10 of the city you are living in monthlys rent\n",
    "* The bonus is only active for the first two years\n",
    "* Groceries cost 1/100 of the city you are living in monthlys rent\n",
    "* You are currently at Boston \n",
    "* To relocate to another city you must pay a $10,000 fee \n",
    "* All cities except Boston must pay the fee since you are already in Boston\n",
    "* You are only allowed to move once\n",
    "* you must live in each city for atleast a year\n",
    "* List each city in order from greatest savings over 20 years to least\n",
    "* Write a python code that will produce these results and plot them \n"
   ]
  }
 ],
 "metadata": {
  "kernelspec": {
   "display_name": "base",
   "language": "python",
   "name": "python3"
  },
  "language_info": {
   "name": "python",
   "version": "3.10.9"
  },
  "orig_nbformat": 4
 },
 "nbformat": 4,
 "nbformat_minor": 2
}
