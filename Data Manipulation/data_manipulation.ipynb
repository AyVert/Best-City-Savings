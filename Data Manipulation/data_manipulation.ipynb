{
 "cells": [
  {
   "cell_type": "code",
   "execution_count": null,
   "metadata": {},
   "outputs": [],
   "source": [
    "import numpy as np\n",
    "import pandas as pd\n",
    "import matplotlib.pyplot as plt\n",
    "import seaborn as sns\n",
    "\n",
    "#Create list of Cities\n",
    "Cities = [\"San Francisco\", \"New York\", \"Boston\", \"Oakland\", \"San Jose\", \"Los Angeles\", \"Washington\", \"Seattle\", \"San Diego\", \"Miami\"]\n",
    "\n",
    "#Creates an empty list of 10 values\n",
    "Total_gains = np.zeros (10)\n",
    "Total_cost = np.zeros (10)\n",
    "Total_savings = np.zeros (10)\n",
    "\n",
    "#Creates a list of Rent per month\n",
    "Rent = [3500, 3000, 2590, 2500, 2450, 2260, 2260, 1890, 1790, 1800]\n",
    "Monthly_salary = 4000\n",
    "bonus_array = np.zeros (10)\n",
    "\n",
    "#This for loop basically runs 10 times and multiplies rent and bonus\n",
    "for i in range (10):\n",
    "    bonus_array[i] = Rent[i] * 0.3\n",
    "\n",
    "#Here we creat a new list with all flight cost with index[2] being 0 due to it being Boston\n",
    "flight_cost = [10000, 10000, 0, 10000, 10000, 10000, 10000, 10000, 10000, 10000]\n",
    "Groceries = np.zeros (10)\n",
    "\n",
    "#This for loop basically runs 10 times and multiplies rent and groceries\n",
    "for i in range (10):\n",
    "    Groceries[i] = Rent[i] * 0.01\n",
    "\n",
    "\n",
    "\n",
    "\n",
    "#Living in Boston must choose a place to stay for one year (Can only move places after one year each time)\n",
    "#The salary I recieve for a year is 48k\n",
    "#4,000 a month \n",
    "\n",
    "#BOSTON 1410 after rent 1384.1 after groceries 1643.1 added 3/10 multiply *12 YEAR COST IS 19,717.2\n",
    "#SAN FRANCISCO 4000-3500 left with 500 after rent 500-35(groceries) left with 465 add 3/10 1,050 savings  1,050 * 12 = 12,600 left then take 10,000 moving cost left with 2,600\n",
    "\n",
    "\n",
    "#Must choose the cheapest place to live but you get a monthly bonus of 3/10 of your monthly rent\n",
    "#The monthly bonus is only for 2 year\n",
    "#Each move is $10000 (if living in boston this is void since office is in Boston one time cost)\n",
    "#Groceries cost 1/100 of rent\n",
    "\n",
    "#Question What will you do for the next 20 years and what will be your monthly savings \n",
    "\n",
    "\n",
    "\n"
   ]
  },
  {
   "cell_type": "code",
   "execution_count": null,
   "metadata": {},
   "outputs": [],
   "source": [
    "Yearly_gains = np.zeros(20)\n",
    "print(Yearly_gains)\n",
    "for i in range(20):\n",
    "    Yearly_gains[i] = 48000\n",
    "print(Yearly_gains)\n",
    "\n"
   ]
  },
  {
   "cell_type": "code",
   "execution_count": null,
   "metadata": {},
   "outputs": [],
   "source": [
    "#ONE YEAR OF COSTS PER CITY\n",
    "for city_index in range(len(Cities)):\n",
    "    for i in range (20):\n",
    "        Monthly_cost = Groceries + Rent\n",
    "        Yearly_cost = Monthly_cost * 12\n",
    "    \n",
    "\n",
    "    print(Yearly_cost)"
   ]
  },
  {
   "cell_type": "code",
   "execution_count": 11,
   "metadata": {},
   "outputs": [
    {
     "name": "stdout",
     "output_type": "stream",
     "text": [
      "The total cost of living in San Francisco over 20 years is: 848400.0\n",
      "The total cost of living in New York over 20 years is: 727200.0\n",
      "The total cost of living in Boston over 20 years is: 627816.0\n",
      "The total cost of living in Oakland over 20 years is: 606000.0\n",
      "The total cost of living in San Jose over 20 years is: 593880.0\n",
      "The total cost of living in Los Angeles over 20 years is: 547824.0\n",
      "The total cost of living in Washington over 20 years is: 547824.0\n",
      "The total cost of living in Seattle over 20 years is: 458136.00000000006\n",
      "The total cost of living in San Diego over 20 years is: 433896.00000000006\n",
      "The total cost of living in Miami over 20 years is: 436320.0\n"
     ]
    }
   ],
   "source": [
    "#20 YEARS OF COSTS PER CITY\n",
    "for city_index in range(len(Cities)):\n",
    "    Monthly_cost = Groceries[city_index] + Rent[city_index]\n",
    "    Yearly_cost = Monthly_cost * 12\n",
    "    Total_cost[city_index] = Yearly_cost * 20\n",
    "    \n",
    "    print(\"The total cost of living in\", Cities[city_index], \"over 20 years is:\", Total_cost[city_index])\n"
   ]
  },
  {
   "cell_type": "code",
   "execution_count": 12,
   "metadata": {},
   "outputs": [
    {
     "name": "stdout",
     "output_type": "stream",
     "text": [
      "The total gains for San Francisco with bonus over 20 years: 985200.0\n",
      "The total gains for New York with bonus over 20 years: 981600.0\n",
      "The total gains for Boston with bonus over 20 years: 978648.0\n",
      "The total gains for Oakland with bonus over 20 years: 978000.0\n",
      "The total gains for San Jose with bonus over 20 years: 977640.0\n",
      "The total gains for Los Angeles with bonus over 20 years: 976272.0\n",
      "The total gains for Washington with bonus over 20 years: 976272.0\n",
      "The total gains for Seattle with bonus over 20 years: 973608.0\n",
      "The total gains for San Diego with bonus over 20 years: 972888.0\n",
      "The total gains for Miami with bonus over 20 years: 972960.0\n"
     ]
    }
   ],
   "source": [
    "#20 YEARS OF GAINS PER CITY\n",
    "\n",
    "for city_index in range(len(Cities)):\n",
    "    Total_gains[city_index] = 0\n",
    "    for i in range(20):\n",
    "        if i < 2:\n",
    "            bonus = bonus_array[city_index] * 12\n",
    "        else:\n",
    "            bonus = 0\n",
    "        yearly_savings = 48000 + bonus\n",
    "        Total_gains[city_index] += yearly_savings\n",
    "    \n",
    "    print(\"The total gains for\", Cities[city_index], \"with bonus over 20 years:\", Total_gains[city_index])\n"
   ]
  },
  {
   "cell_type": "code",
   "execution_count": 13,
   "metadata": {},
   "outputs": [
    {
     "name": "stdout",
     "output_type": "stream",
     "text": [
      "The total savings for San Francisco with over 20 years: 136800.0\n",
      "The total savings for New York with over 20 years: 254400.0\n",
      "The total savings for Boston with over 20 years: 350832.0\n",
      "The total savings for Oakland with over 20 years: 372000.0\n",
      "The total savings for San Jose with over 20 years: 383760.0\n",
      "The total savings for Los Angeles with over 20 years: 428448.0\n",
      "The total savings for Washington with over 20 years: 428448.0\n",
      "The total savings for Seattle with over 20 years: 515471.99999999994\n",
      "The total savings for San Diego with over 20 years: 538992.0\n",
      "The total savings for Miami with over 20 years: 536640.0\n"
     ]
    }
   ],
   "source": [
    "#Subtract total gains from total cost\n",
    "#Put an equation to give us the biggest number out of the group which would be our answer\n",
    "#Then print all diffrences \n",
    "\n",
    "\n",
    "for city_index in range(len(Cities)):\n",
    "    Total_savings[city_index] = Total_gains[city_index] - Total_cost[city_index]\n",
    "\n",
    "\n",
    "    \n",
    "    print(\"The total savings for\", Cities[city_index], \"with over 20 years:\", Total_savings[city_index])\n",
    "\n",
    "\n",
    "\n",
    "#Total_savings = Total_gains[city_index] - Total_cost[city_index]\n",
    "\n"
   ]
  },
  {
   "cell_type": "code",
   "execution_count": 14,
   "metadata": {},
   "outputs": [
    {
     "name": "stdout",
     "output_type": "stream",
     "text": [
      "San Diego total savings equals 538992.0\n",
      "Miami total savings equals 536640.0\n",
      "Seattle total savings equals 515471.99999999994\n",
      "Washington total savings equals 428448.0\n",
      "Los Angeles total savings equals 428448.0\n",
      "San Jose total savings equals 383760.0\n",
      "Oakland total savings equals 372000.0\n",
      "Boston total savings equals 350832.0\n",
      "New York total savings equals 254400.0\n",
      "San Francisco total savings equals 136800.0\n"
     ]
    }
   ],
   "source": [
    "#Subtract total savings from total cost\n",
    "#Put an equation to give us the biggest number out of the group which would be our answer\n",
    "#Then print all diffrences \n",
    "\n",
    "\n",
    "Sorted_Total_savings = []\n",
    "Sorted_Cities = []\n",
    "for city_index in range(len(Cities)):\n",
    "    Total_savings = Total_gains[city_index] - Total_cost[city_index]\n",
    "    Sorted_Total_savings.append(Total_savings)\n",
    "    Sorted_Cities.append(Cities[city_index])\n",
    "for i in range(len(Cities)):\n",
    "    for j in range(len(Cities)):\n",
    "        if Sorted_Total_savings[j] < Sorted_Total_savings[i]:\n",
    "            temp = Sorted_Total_savings[j]\n",
    "            Sorted_Total_savings[j] = Sorted_Total_savings[i]\n",
    "            Sorted_Total_savings[i] = temp\n",
    "            temp = Sorted_Cities[j]\n",
    "            Sorted_Cities[j] = Sorted_Cities[i]\n",
    "            Sorted_Cities[i] = temp\n",
    "for i in range(len(Cities)):\n",
    "    print(Sorted_Cities[i],\"total savings equals\", Sorted_Total_savings[i])\n",
    "\n",
    "\n"
   ]
  },
  {
   "cell_type": "code",
   "execution_count": 15,
   "metadata": {},
   "outputs": [
    {
     "data": {
      "image/png": "[encoded data removed]",
      "text/plain": [
       "<Figure size 640x480 with 1 Axes>"
      ]
     },
     "metadata": {},
     "output_type": "display_data"
    }
   ],
   "source": [
    "\n",
    "fig, ax = plt.subplots()\n",
    "x = range(len(Sorted_Cities))\n",
    "ax.bar(x, Sorted_Total_savings)\n",
    "ax.set_xticks(x)\n",
    "ax.set_xticklabels(Sorted_Cities, rotation=90)\n",
    "ax.set_xlabel(\"Cities\")\n",
    "ax.set_ylabel(\"Total Savings\")\n",
    "ax.set_title(\"Total Savings by City\")\n",
    "plt.show()\n"
   ]
  }
 ],
 "metadata": {
  "kernelspec": {
   "display_name": "Python 3",
   "language": "python",
   "name": "python3"
  },
  "language_info": {
   "codemirror_mode": {
    "name": "ipython",
    "version": 3
   },
   "file_extension": ".py",
   "mimetype": "text/x-python",
   "name": "python",
   "nbconvert_exporter": "python",
   "pygments_lexer": "ipython3",
   "version": "3.10.9"
  },
  "orig_nbformat": 4
 },
 "nbformat": 4,
 "nbformat_minor": 2
}
